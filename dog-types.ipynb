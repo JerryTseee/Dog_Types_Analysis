{
 "cells": [
  {
   "cell_type": "code",
   "execution_count": 1,
   "id": "a27032b9",
   "metadata": {
    "_cell_guid": "b1076dfc-b9ad-4769-8c92-a6c4dae69d19",
    "_uuid": "8f2839f25d086af736a60e9eeb907d3b93b6e0e5",
    "execution": {
     "iopub.execute_input": "2024-05-23T08:47:34.415564Z",
     "iopub.status.busy": "2024-05-23T08:47:34.414749Z",
     "iopub.status.idle": "2024-05-23T08:47:35.376842Z",
     "shell.execute_reply": "2024-05-23T08:47:35.375536Z"
    },
    "papermill": {
     "duration": 0.970351,
     "end_time": "2024-05-23T08:47:35.379417",
     "exception": false,
     "start_time": "2024-05-23T08:47:34.409066",
     "status": "completed"
    },
    "tags": []
   },
   "outputs": [
    {
     "data": {
      "text/html": [
       "<div>\n",
       "<style scoped>\n",
       "    .dataframe tbody tr th:only-of-type {\n",
       "        vertical-align: middle;\n",
       "    }\n",
       "\n",
       "    .dataframe tbody tr th {\n",
       "        vertical-align: top;\n",
       "    }\n",
       "\n",
       "    .dataframe thead th {\n",
       "        text-align: right;\n",
       "    }\n",
       "</style>\n",
       "<table border=\"1\" class=\"dataframe\">\n",
       "  <thead>\n",
       "    <tr style=\"text-align: right;\">\n",
       "      <th></th>\n",
       "      <th>Breed</th>\n",
       "      <th>type</th>\n",
       "      <th>score</th>\n",
       "      <th>popularity ranking</th>\n",
       "      <th>size</th>\n",
       "      <th>intelligence</th>\n",
       "      <th>congential ailments</th>\n",
       "      <th>score for kids</th>\n",
       "      <th>size.1</th>\n",
       "      <th>$LIFETIME COST</th>\n",
       "      <th>INTELLIGENCE RANK</th>\n",
       "      <th>INTELLIGENCE %</th>\n",
       "      <th>LONGEVITY(YEARS)</th>\n",
       "      <th>NUMBER OF GENETIC AILMENTS</th>\n",
       "      <th>GENETIC AILMENTS</th>\n",
       "      <th>PURCHASE PRICE</th>\n",
       "      <th>FOOD COSTS PER YEAR</th>\n",
       "      <th>GROOMING FREQUNCY</th>\n",
       "      <th>SUITABILITY FOR CHILDREN</th>\n",
       "    </tr>\n",
       "  </thead>\n",
       "  <tbody>\n",
       "    <tr>\n",
       "      <th>0</th>\n",
       "      <td>Border Terrier</td>\n",
       "      <td>terrier</td>\n",
       "      <td>3.61</td>\n",
       "      <td>61</td>\n",
       "      <td>1</td>\n",
       "      <td>Above average</td>\n",
       "      <td>none</td>\n",
       "      <td>4.99</td>\n",
       "      <td>small</td>\n",
       "      <td>$22,638</td>\n",
       "      <td>30</td>\n",
       "      <td>70%</td>\n",
       "      <td>14.00</td>\n",
       "      <td>0</td>\n",
       "      <td>none</td>\n",
       "      <td>$833</td>\n",
       "      <td>$324</td>\n",
       "      <td>Once a week</td>\n",
       "      <td>1</td>\n",
       "    </tr>\n",
       "    <tr>\n",
       "      <th>1</th>\n",
       "      <td>Cairn Terrier</td>\n",
       "      <td>terrier</td>\n",
       "      <td>3.53</td>\n",
       "      <td>48</td>\n",
       "      <td>1</td>\n",
       "      <td>Above average</td>\n",
       "      <td>'lion jaw', heart problems</td>\n",
       "      <td>4.91</td>\n",
       "      <td>small</td>\n",
       "      <td>$21,992</td>\n",
       "      <td>35</td>\n",
       "      <td>61%</td>\n",
       "      <td>13.84</td>\n",
       "      <td>2</td>\n",
       "      <td>'lion jaw', heart problems</td>\n",
       "      <td>$435</td>\n",
       "      <td>$324</td>\n",
       "      <td>Once a week</td>\n",
       "      <td>1</td>\n",
       "    </tr>\n",
       "    <tr>\n",
       "      <th>2</th>\n",
       "      <td>Siberian Husky</td>\n",
       "      <td>working</td>\n",
       "      <td>3.22</td>\n",
       "      <td>16</td>\n",
       "      <td>2</td>\n",
       "      <td>Average</td>\n",
       "      <td>none</td>\n",
       "      <td>4.72</td>\n",
       "      <td>medium</td>\n",
       "      <td>$22,049</td>\n",
       "      <td>45</td>\n",
       "      <td>45%</td>\n",
       "      <td>12.58</td>\n",
       "      <td>0</td>\n",
       "      <td>none</td>\n",
       "      <td>$650</td>\n",
       "      <td>$466</td>\n",
       "      <td>Once in a few weeks</td>\n",
       "      <td>1</td>\n",
       "    </tr>\n",
       "    <tr>\n",
       "      <th>3</th>\n",
       "      <td>Welsh Springer Spaniel</td>\n",
       "      <td>sporting</td>\n",
       "      <td>3.34</td>\n",
       "      <td>81</td>\n",
       "      <td>2</td>\n",
       "      <td>Above average</td>\n",
       "      <td>hip problems</td>\n",
       "      <td>4.71</td>\n",
       "      <td>medium</td>\n",
       "      <td>$20,224</td>\n",
       "      <td>31</td>\n",
       "      <td>69%</td>\n",
       "      <td>12.49</td>\n",
       "      <td>1</td>\n",
       "      <td>hip problems</td>\n",
       "      <td>$750</td>\n",
       "      <td>$324</td>\n",
       "      <td>Once a week</td>\n",
       "      <td>1</td>\n",
       "    </tr>\n",
       "    <tr>\n",
       "      <th>4</th>\n",
       "      <td>English Cocker Spaniel</td>\n",
       "      <td>sporting</td>\n",
       "      <td>3.33</td>\n",
       "      <td>51</td>\n",
       "      <td>2</td>\n",
       "      <td>Excellent</td>\n",
       "      <td>none</td>\n",
       "      <td>4.70</td>\n",
       "      <td>medium</td>\n",
       "      <td>$18,993</td>\n",
       "      <td>18</td>\n",
       "      <td>82%</td>\n",
       "      <td>11.66</td>\n",
       "      <td>0</td>\n",
       "      <td>none</td>\n",
       "      <td>$800</td>\n",
       "      <td>$324</td>\n",
       "      <td>Once a week</td>\n",
       "      <td>1</td>\n",
       "    </tr>\n",
       "  </tbody>\n",
       "</table>\n",
       "</div>"
      ],
      "text/plain": [
       "                    Breed      type  score  popularity ranking  size  \\\n",
       "0          Border Terrier   terrier   3.61                  61     1   \n",
       "1           Cairn Terrier   terrier   3.53                  48     1   \n",
       "2          Siberian Husky   working   3.22                  16     2   \n",
       "3  Welsh Springer Spaniel  sporting   3.34                  81     2   \n",
       "4  English Cocker Spaniel  sporting   3.33                  51     2   \n",
       "\n",
       "    intelligence           congential ailments  score for kids  size.1  \\\n",
       "0  Above average                          none            4.99   small   \n",
       "1  Above average  'lion jaw', heart problems              4.91   small   \n",
       "2        Average                          none            4.72  medium   \n",
       "3  Above average                  hip problems            4.71  medium   \n",
       "4      Excellent                          none            4.70  medium   \n",
       "\n",
       "  $LIFETIME COST  INTELLIGENCE RANK INTELLIGENCE %  LONGEVITY(YEARS)  \\\n",
       "0       $22,638                  30            70%             14.00   \n",
       "1       $21,992                  35            61%             13.84   \n",
       "2       $22,049                  45            45%             12.58   \n",
       "3       $20,224                  31            69%             12.49   \n",
       "4       $18,993                  18            82%             11.66   \n",
       "\n",
       "   NUMBER OF GENETIC AILMENTS              GENETIC AILMENTS PURCHASE PRICE  \\\n",
       "0                           0                          none          $833    \n",
       "1                           2  'lion jaw', heart problems            $435    \n",
       "2                           0                          none          $650    \n",
       "3                           1                  hip problems          $750    \n",
       "4                           0                          none          $800    \n",
       "\n",
       "  FOOD COSTS PER YEAR    GROOMING FREQUNCY  SUITABILITY FOR CHILDREN  \n",
       "0               $324           Once a week                         1  \n",
       "1               $324           Once a week                         1  \n",
       "2               $466   Once in a few weeks                         1  \n",
       "3               $324           Once a week                         1  \n",
       "4               $324           Once a week                         1  "
      ]
     },
     "execution_count": 1,
     "metadata": {},
     "output_type": "execute_result"
    }
   ],
   "source": [
    "# This Python 3 environment comes with many helpful analytics libraries installed\n",
    "# It is defined by the kaggle/python Docker image: https://github.com/kaggle/docker-python\n",
    "# For example, here's several helpful packages to load\n",
    "\n",
    "import numpy as np # linear algebra\n",
    "import pandas as pd # data processing, CSV file I/O (e.g. pd.read_csv)\n",
    "import matplotlib.pyplot as plt\n",
    "\n",
    "# Input data files are available in the read-only \"../input/\" directory\n",
    "data = pd.read_csv(\"/kaggle/input/dog-breeds-ranking-best-to-worst/dogs-ranking-dataset.csv\")\n",
    "data.head()#understand the basic format of the data"
   ]
  },
  {
   "cell_type": "code",
   "execution_count": 2,
   "id": "8bc9a249",
   "metadata": {
    "execution": {
     "iopub.execute_input": "2024-05-23T08:47:35.388406Z",
     "iopub.status.busy": "2024-05-23T08:47:35.387949Z",
     "iopub.status.idle": "2024-05-23T08:47:35.414763Z",
     "shell.execute_reply": "2024-05-23T08:47:35.413224Z"
    },
    "papermill": {
     "duration": 0.03517,
     "end_time": "2024-05-23T08:47:35.418381",
     "exception": false,
     "start_time": "2024-05-23T08:47:35.383211",
     "status": "completed"
    },
    "tags": []
   },
   "outputs": [
    {
     "name": "stdout",
     "output_type": "stream",
     "text": [
      "<class 'pandas.core.frame.DataFrame'>\n",
      "RangeIndex: 87 entries, 0 to 86\n",
      "Data columns (total 19 columns):\n",
      " #   Column                      Non-Null Count  Dtype  \n",
      "---  ------                      --------------  -----  \n",
      " 0   Breed                       87 non-null     object \n",
      " 1   type                        87 non-null     object \n",
      " 2   score                       87 non-null     float64\n",
      " 3   popularity ranking          87 non-null     int64  \n",
      " 4   size                        87 non-null     int64  \n",
      " 5   intelligence                87 non-null     object \n",
      " 6   congential ailments         87 non-null     object \n",
      " 7   score for kids              87 non-null     float64\n",
      " 8   size.1                      87 non-null     object \n",
      " 9   $LIFETIME COST              87 non-null     object \n",
      " 10  INTELLIGENCE RANK           87 non-null     int64  \n",
      " 11  INTELLIGENCE %              87 non-null     object \n",
      " 12  LONGEVITY(YEARS)            87 non-null     float64\n",
      " 13  NUMBER OF GENETIC AILMENTS  87 non-null     int64  \n",
      " 14  GENETIC AILMENTS            87 non-null     object \n",
      " 15  PURCHASE PRICE              87 non-null     object \n",
      " 16  FOOD COSTS PER YEAR         87 non-null     object \n",
      " 17  GROOMING FREQUNCY           87 non-null     object \n",
      " 18  SUITABILITY FOR CHILDREN    87 non-null     int64  \n",
      "dtypes: float64(3), int64(5), object(11)\n",
      "memory usage: 13.0+ KB\n"
     ]
    }
   ],
   "source": [
    "#mainly using pandas to conduct Data Cleansing\n",
    "data.info()#first to find out the data information"
   ]
  },
  {
   "cell_type": "code",
   "execution_count": 3,
   "id": "13bb151d",
   "metadata": {
    "execution": {
     "iopub.execute_input": "2024-05-23T08:47:35.427280Z",
     "iopub.status.busy": "2024-05-23T08:47:35.426354Z",
     "iopub.status.idle": "2024-05-23T08:47:35.440382Z",
     "shell.execute_reply": "2024-05-23T08:47:35.438936Z"
    },
    "papermill": {
     "duration": 0.021311,
     "end_time": "2024-05-23T08:47:35.443079",
     "exception": false,
     "start_time": "2024-05-23T08:47:35.421768",
     "status": "completed"
    },
    "tags": []
   },
   "outputs": [
    {
     "name": "stdout",
     "output_type": "stream",
     "text": [
      "<class 'pandas.core.frame.DataFrame'>\n",
      "RangeIndex: 87 entries, 0 to 86\n",
      "Data columns (total 19 columns):\n",
      " #   Column                      Non-Null Count  Dtype  \n",
      "---  ------                      --------------  -----  \n",
      " 0   Breed                       87 non-null     object \n",
      " 1   type                        87 non-null     object \n",
      " 2   score                       87 non-null     float64\n",
      " 3   popularity ranking          87 non-null     int64  \n",
      " 4   size                        87 non-null     int64  \n",
      " 5   intelligence                87 non-null     object \n",
      " 6   congential ailments         87 non-null     object \n",
      " 7   score for kids              87 non-null     float64\n",
      " 8   size.1                      87 non-null     object \n",
      " 9   $LIFETIME COST              87 non-null     object \n",
      " 10  INTELLIGENCE RANK           87 non-null     int64  \n",
      " 11  INTELLIGENCE %              87 non-null     object \n",
      " 12  LONGEVITY(YEARS)            87 non-null     float64\n",
      " 13  NUMBER OF GENETIC AILMENTS  87 non-null     int64  \n",
      " 14  GENETIC AILMENTS            87 non-null     object \n",
      " 15  PURCHASE PRICE              87 non-null     object \n",
      " 16  FOOD COSTS PER YEAR         87 non-null     object \n",
      " 17  GROOMING FREQUNCY           87 non-null     object \n",
      " 18  SUITABILITY FOR CHILDREN    87 non-null     int64  \n",
      "dtypes: float64(3), int64(5), object(11)\n",
      "memory usage: 13.0+ KB\n"
     ]
    }
   ],
   "source": [
    "#from the above info, we can see that there is no empty rows\n",
    "#but we still clear it anyway :)\n",
    "df = data.dropna()\n",
    "df.info()"
   ]
  },
  {
   "cell_type": "code",
   "execution_count": 4,
   "id": "32cb50ee",
   "metadata": {
    "execution": {
     "iopub.execute_input": "2024-05-23T08:47:35.452463Z",
     "iopub.status.busy": "2024-05-23T08:47:35.452096Z",
     "iopub.status.idle": "2024-05-23T08:47:35.458671Z",
     "shell.execute_reply": "2024-05-23T08:47:35.457189Z"
    },
    "papermill": {
     "duration": 0.014591,
     "end_time": "2024-05-23T08:47:35.461798",
     "exception": false,
     "start_time": "2024-05-23T08:47:35.447207",
     "status": "completed"
    },
    "tags": []
   },
   "outputs": [
    {
     "name": "stdout",
     "output_type": "stream",
     "text": [
      "['terrier' 'working' 'sporting' 'non-sporting' 'herding' 'toy' 'hound']\n"
     ]
    }
   ],
   "source": [
    "#First Task: show the different types of dog\n",
    "dog_types = df[\"type\"].unique()\n",
    "print(dog_types)"
   ]
  },
  {
   "cell_type": "code",
   "execution_count": 5,
   "id": "f260fd94",
   "metadata": {
    "execution": {
     "iopub.execute_input": "2024-05-23T08:47:35.470869Z",
     "iopub.status.busy": "2024-05-23T08:47:35.470503Z",
     "iopub.status.idle": "2024-05-23T08:47:35.479878Z",
     "shell.execute_reply": "2024-05-23T08:47:35.478889Z"
    },
    "papermill": {
     "duration": 0.016648,
     "end_time": "2024-05-23T08:47:35.482096",
     "exception": false,
     "start_time": "2024-05-23T08:47:35.465448",
     "status": "completed"
    },
    "tags": []
   },
   "outputs": [
    {
     "name": "stdout",
     "output_type": "stream",
     "text": [
      "type\n",
      "herding         43.500000\n",
      "hound           52.692308\n",
      "non-sporting    38.600000\n",
      "sporting        46.066667\n",
      "terrier         58.416667\n",
      "toy             36.769231\n",
      "working         32.285714\n",
      "Name: popularity ranking, dtype: float64\n"
     ]
    }
   ],
   "source": [
    "#Second Task: draw a graph to show which type has the most popularity(according to mean value)\n",
    "popularity_counts = df.groupby(\"type\")[\"popularity ranking\"].mean()#count the popularity number of each type\n",
    "print(popularity_counts)"
   ]
  },
  {
   "cell_type": "code",
   "execution_count": 6,
   "id": "e7ccde3b",
   "metadata": {
    "execution": {
     "iopub.execute_input": "2024-05-23T08:47:35.490720Z",
     "iopub.status.busy": "2024-05-23T08:47:35.490273Z",
     "iopub.status.idle": "2024-05-23T08:47:35.742101Z",
     "shell.execute_reply": "2024-05-23T08:47:35.740539Z"
    },
    "papermill": {
     "duration": 0.259621,
     "end_time": "2024-05-23T08:47:35.745170",
     "exception": false,
     "start_time": "2024-05-23T08:47:35.485549",
     "status": "completed"
    },
    "tags": []
   },
   "outputs": [
    {
     "data": {
      "image/png": "[encoded data removed]",
      "text/plain": [
       "<Figure size 640x480 with 1 Axes>"
      ]
     },
     "metadata": {},
     "output_type": "display_data"
    }
   ],
   "source": [
    "#then start to draw the bar chart\n",
    "plt.bar(popularity_counts.index, popularity_counts.values,width = 0.1)\n",
    "plt.xlabel(\"Dog Types\")\n",
    "plt.ylabel(\"Mean Popularity\")\n",
    "plt.show()"
   ]
  },
  {
   "cell_type": "code",
   "execution_count": 7,
   "id": "8410409a",
   "metadata": {
    "execution": {
     "iopub.execute_input": "2024-05-23T08:47:35.755259Z",
     "iopub.status.busy": "2024-05-23T08:47:35.754851Z",
     "iopub.status.idle": "2024-05-23T08:47:35.995778Z",
     "shell.execute_reply": "2024-05-23T08:47:35.994446Z"
    },
    "papermill": {
     "duration": 0.24874,
     "end_time": "2024-05-23T08:47:35.998085",
     "exception": false,
     "start_time": "2024-05-23T08:47:35.749345",
     "status": "completed"
    },
    "tags": []
   },
   "outputs": [
    {
     "name": "stdout",
     "output_type": "stream",
     "text": [
      "type\n",
      "herding         20477.100000\n",
      "hound           19365.769231\n",
      "non-sporting    19315.800000\n",
      "sporting        20809.066667\n",
      "terrier         20504.333333\n",
      "toy             19506.076923\n",
      "working         19124.785714\n",
      "Name: $LIFETIME COST, dtype: float64\n"
     ]
    },
    {
     "data": {
      "image/png": "[encoded data removed]",
      "text/plain": [
       "<Figure size 640x480 with 1 Axes>"
      ]
     },
     "metadata": {},
     "output_type": "display_data"
    }
   ],
   "source": [
    "#Task Three: average lifetime cost by dog type\n",
    "#convert format!!!\n",
    "df[\"$LIFETIME COST\"] = df[\"$LIFETIME COST\"].astype(str)\n",
    "df[\"$LIFETIME COST\"] = df[\"$LIFETIME COST\"].str.replace(\"$\",\"\").str.replace(\",\",\"\").astype(float)\n",
    "avg_lifetime_cost = df.groupby(\"type\")[\"$LIFETIME COST\"].mean()\n",
    "print(avg_lifetime_cost)\n",
    "\n",
    "plt.bar(avg_lifetime_cost.index, avg_lifetime_cost.values, width = 0.1)\n",
    "plt.xlabel(\"Dog Types\")\n",
    "plt.ylabel(\"Life Time Costs\")\n",
    "plt.show()"
   ]
  }
 ],
 "metadata": {
  "kaggle": {
   "accelerator": "none",
   "dataSources": [
    {
     "datasetId": 5035881,
     "sourceId": 8450385,
     "sourceType": "datasetVersion"
    }
   ],
   "dockerImageVersionId": 30698,
   "isGpuEnabled": false,
   "isInternetEnabled": false,
   "language": "python",
   "sourceType": "notebook"
  },
  "kernelspec": {
   "display_name": "Python 3",
   "language": "python",
   "name": "python3"
  },
  "language_info": {
   "codemirror_mode": {
    "name": "ipython",
    "version": 3
   },
   "file_extension": ".py",
   "mimetype": "text/x-python",
   "name": "python",
   "nbconvert_exporter": "python",
   "pygments_lexer": "ipython3",
   "version": "3.10.13"
  },
  "papermill": {
   "default_parameters": {},
   "duration": 5.029666,
   "end_time": "2024-05-23T08:47:36.525548",
   "environment_variables": {},
   "exception": null,
   "input_path": "__notebook__.ipynb",
   "output_path": "__notebook__.ipynb",
   "parameters": {},
   "start_time": "2024-05-23T08:47:31.495882",
   "version": "2.5.0"
  }
 },
 "nbformat": 4,
 "nbformat_minor": 5
}
